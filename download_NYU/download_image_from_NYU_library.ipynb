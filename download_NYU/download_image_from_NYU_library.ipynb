{
 "cells": [
  {
   "cell_type": "code",
   "execution_count": 138,
   "metadata": {},
   "outputs": [],
   "source": [
    "import requests\n",
    "\n",
    "def get_info_json(url):\n",
    "    \"\"\"\n",
    "    url: i.e. \"https://sites.dlib.nyu.edu/viewer/api/image/photos/fales_mss222_cuid28861/2/info.json\"\n",
    "\n",
    "    \"\"\"\n",
    "    \n",
    "    # Make a GET request to fetch the JSON data\n",
    "    response = requests.get(url)\n",
    "\n",
    "    # Check if the request was successful\n",
    "    if response.status_code == 200:\n",
    "        json_data = response.json()\n",
    "        return json_data\n",
    "    else:\n",
    "        print(f'Failed to retrieve JSON data: HTTP {response.status_code}')\n",
    "        return None\n"
   ]
  },
  {
   "cell_type": "code",
   "execution_count": 139,
   "metadata": {},
   "outputs": [],
   "source": [
    "import os\n",
    "import re\n",
    "import requests\n",
    "\n",
    "\n",
    "def download_image(image_folder_path, jp2_url, img_num):\n",
    "    \"\"\"\n",
    "    image_folder_path: the folder to save the result\n",
    "    jp2_url: i.e. \"https://image1.dlib.nyu.edu:8183/iiif/2/photo%2Ffales_mss222_cuid28861%2Ffales_mss222_cuid28861_n000002_d.jp2\"\n",
    "\n",
    "    \"\"\"\n",
    "\n",
    "    if not os.path.exists(image_folder_path):\n",
    "        os.makedirs(image_folder_path)\n",
    "\n",
    "    quality = \"full/full/0/default.png\"\n",
    "    jp2_url += \"/\" + quality\n",
    "\n",
    "    for i_num in range(1, img_num + 1):\n",
    "        new_idx_part = f\"n{str(i_num).zfill(6)}\"\n",
    "        cur_url = re.sub(r\"(n\\d{6})\", new_idx_part, jp2_url, count=1)\n",
    "\n",
    "        # Download image\n",
    "        local_image_path = image_folder_path + \"/\" + f\"{i_num}.png\"\n",
    "        response = requests.get(cur_url)\n",
    "\n",
    "        if response.status_code == 200:\n",
    "            with open(local_image_path, 'wb') as image_file:\n",
    "                image_file.write(response.content)\n",
    "            print(f\"Image successfully downloaded and saved at {local_image_path}\")\n",
    "        else:\n",
    "            print(f\"Failed to download the image. Status code: {response.status_code}\")"
   ]
  },
  {
   "cell_type": "code",
   "execution_count": 140,
   "metadata": {},
   "outputs": [
    {
     "name": "stdout",
     "output_type": "stream",
     "text": [
      "Image successfully downloaded and saved at /Users/tftuser/Desktop/NYU_image/Dorothy Dean to Joe Campbell, 1986-06-22/1.png\n",
      "Image successfully downloaded and saved at /Users/tftuser/Desktop/NYU_image/Dorothy Dean to Joe Campbell, 1986-06-22/2.png\n",
      "Image successfully downloaded and saved at /Users/tftuser/Desktop/NYU_image/Dorothy Dean to Joe Campbell, 1986-06-22/3.png\n",
      "Image successfully downloaded and saved at /Users/tftuser/Desktop/NYU_image/Dorothy Dean to Joe Campbell, 1986-06-22/4.png\n",
      "Image successfully downloaded and saved at /Users/tftuser/Desktop/NYU_image/Dorothy Dean to Joe Campbell, 1986-06-22/5.png\n",
      "Image successfully downloaded and saved at /Users/tftuser/Desktop/NYU_image/Dorothy Dean to Joe Campbell, 1986-06-22/6.png\n",
      "Image successfully downloaded and saved at /Users/tftuser/Desktop/NYU_image/Dorothy Dean to Joe Campbell, 1986-06-22/7.png\n",
      "Image successfully downloaded and saved at /Users/tftuser/Desktop/NYU_image/Dorothy Dean to Joe Campbell, 1986-06-22/8.png\n",
      "Failed to download the image. Status code: 404\n",
      "Failed to download the image. Status code: 404\n",
      "Failed to download the image. Status code: 404\n",
      "Failed to download the image. Status code: 404\n",
      "Failed to download the image. Status code: 404\n",
      "Failed to download the image. Status code: 404\n",
      "Failed to download the image. Status code: 404\n"
     ]
    }
   ],
   "source": [
    "info_json_url = \"https://sites.dlib.nyu.edu/viewer/api/image/photos/fales_mss222_cuid28901/1/info.json\"\n",
    "info_json = get_info_json(info_json_url)\n",
    "\n",
    "\n",
    "image_folder_path = \"/Users/tftuser/Desktop/NYU_image\" + \"/\" + \"Dorothy Dean to Joe Campbell, 1986-06-22\"\n",
    "img_num = 15        # You can set it too a large number (even larger than real image number)\n",
    "download_image(image_folder_path=image_folder_path, jp2_url=info_json[\"@id\"], img_num=img_num)"
   ]
  }
 ],
 "metadata": {
  "kernelspec": {
   "display_name": "Python 3",
   "language": "python",
   "name": "python3"
  },
  "language_info": {
   "codemirror_mode": {
    "name": "ipython",
    "version": 3
   },
   "file_extension": ".py",
   "mimetype": "text/x-python",
   "name": "python",
   "nbconvert_exporter": "python",
   "pygments_lexer": "ipython3",
   "version": "3.9.6"
  }
 },
 "nbformat": 4,
 "nbformat_minor": 2
}
